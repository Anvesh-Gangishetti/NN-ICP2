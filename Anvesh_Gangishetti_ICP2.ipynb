{
 "cells": [
  {
   "cell_type": "code",
   "execution_count": 1,
   "id": "854b4cd1",
   "metadata": {},
   "outputs": [
    {
     "name": "stdout",
     "output_type": "stream",
     "text": [
      "Enter your First Name : Anvesh\n",
      "Enter your Last Name : Gangishetti\n",
      "Anvesh Gangishetti\n"
     ]
    }
   ],
   "source": [
    "def Full_name(first_name, last_name):\n",
    "    full_name = first_name + \" \" + last_name\n",
    "    return full_name\n",
    "first_Name= input(\"Enter your First Name : \")\n",
    "last_Name= input(\"Enter your Last Name : \")\n",
    "print(Full_name(first_Name, last_Name))\n"
   ]
  },
  {
   "cell_type": "code",
   "execution_count": 2,
   "id": "dfb51930",
   "metadata": {},
   "outputs": [
    {
     "name": "stdout",
     "output_type": "stream",
     "text": [
      "Enter the input string: Good Evening\n",
      "The output of the String is: Go vnn\n"
     ]
    }
   ],
   "source": [
    "def string_alternative(string):\n",
    "    return string[::2]\n",
    "def main():\n",
    "    string = input(\"Enter the input string: \")\n",
    "    result = string_alternative(string)\n",
    "    print(\"The output of the String is:\", result)\n",
    "    \n",
    "if __name__ == \"__main__\":\n",
    "    main()\n"
   ]
  },
  {
   "cell_type": "code",
   "execution_count": 3,
   "id": "7410c7ba",
   "metadata": {},
   "outputs": [
    {
     "name": "stdout",
     "output_type": "stream",
     "text": [
      "Python:1\n",
      "Course:2\n",
      "Deep:1\n",
      "Learning:1\n",
      "\n"
     ]
    }
   ],
   "source": [
    "with open('input.txt','r') as ip_file:\n",
    "    lines=ip_file.read()\n",
    "    word=lines.split()\n",
    "    data=[]\n",
    "    with open('output.txt','w') as op_file:\n",
    "        for i in word:\n",
    "            if i not in data:\n",
    "                data.append(i)\n",
    "                op_file.write(i+':'+str(word.count(i))+'\\n')      \n",
    "op_file=open('output.txt','r')\n",
    "print(op_file.read())"
   ]
  },
  {
   "cell_type": "code",
   "execution_count": 3,
   "id": "0b1f9c91",
   "metadata": {},
   "outputs": [
    {
     "name": "stdout",
     "output_type": "stream",
     "text": [
      "150 155 145 148\n",
      "[381.0, 393.7, 368.3, 375.92]\n",
      "[381.0, 393.7, 368.3, 375.92]\n"
     ]
    }
   ],
   "source": [
    "L1 = list(map(float, input().split()))\n",
    "L2= []\n",
    "\n",
    "for i in L1:\n",
    "    L2.append(i*2.54)\n",
    "print(L2) \n",
    "\n",
    "L3=[i*2.54 for i in L1]\n",
    "print(L3)\n"
   ]
  },
  {
   "cell_type": "code",
   "execution_count": null,
   "id": "9c3e7438",
   "metadata": {},
   "outputs": [],
   "source": []
  }
 ],
 "metadata": {
  "kernelspec": {
   "display_name": "Python 3 (ipykernel)",
   "language": "python",
   "name": "python3"
  },
  "language_info": {
   "codemirror_mode": {
    "name": "ipython",
    "version": 3
   },
   "file_extension": ".py",
   "mimetype": "text/x-python",
   "name": "python",
   "nbconvert_exporter": "python",
   "pygments_lexer": "ipython3",
   "version": "3.11.5"
  }
 },
 "nbformat": 4,
 "nbformat_minor": 5
}
